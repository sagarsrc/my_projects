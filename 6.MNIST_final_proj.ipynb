{
 "cells": [
  {
   "cell_type": "code",
   "execution_count": 1,
   "metadata": {},
   "outputs": [
    {
     "data": {
      "text/plain": [
       "'1.9.0'"
      ]
     },
     "execution_count": 1,
     "metadata": {},
     "output_type": "execute_result"
    }
   ],
   "source": [
    "import tensorflow as tf\n",
    "import matplotlib.pyplot as plt\n",
    "import numpy as np\n",
    "import time\n",
    "tf.__version__"
   ]
  },
  {
   "cell_type": "code",
   "execution_count": 2,
   "metadata": {},
   "outputs": [
    {
     "name": "stdout",
     "output_type": "stream",
     "text": [
      "WARNING:tensorflow:From <ipython-input-2-cfae22b8009d>:4: read_data_sets (from tensorflow.contrib.learn.python.learn.datasets.mnist) is deprecated and will be removed in a future version.\n",
      "Instructions for updating:\n",
      "Please use alternatives such as official/mnist/dataset.py from tensorflow/models.\n",
      "WARNING:tensorflow:From /home/sag/anaconda3/envs/mlai/lib/python3.6/site-packages/tensorflow/contrib/learn/python/learn/datasets/mnist.py:260: maybe_download (from tensorflow.contrib.learn.python.learn.datasets.base) is deprecated and will be removed in a future version.\n",
      "Instructions for updating:\n",
      "Please write your own downloading logic.\n",
      "WARNING:tensorflow:From /home/sag/anaconda3/envs/mlai/lib/python3.6/site-packages/tensorflow/contrib/learn/python/learn/datasets/mnist.py:262: extract_images (from tensorflow.contrib.learn.python.learn.datasets.mnist) is deprecated and will be removed in a future version.\n",
      "Instructions for updating:\n",
      "Please use tf.data to implement this functionality.\n",
      "Extracting data/MNIST/train-images-idx3-ubyte.gz\n",
      "WARNING:tensorflow:From /home/sag/anaconda3/envs/mlai/lib/python3.6/site-packages/tensorflow/contrib/learn/python/learn/datasets/mnist.py:267: extract_labels (from tensorflow.contrib.learn.python.learn.datasets.mnist) is deprecated and will be removed in a future version.\n",
      "Instructions for updating:\n",
      "Please use tf.data to implement this functionality.\n",
      "Extracting data/MNIST/train-labels-idx1-ubyte.gz\n",
      "WARNING:tensorflow:From /home/sag/anaconda3/envs/mlai/lib/python3.6/site-packages/tensorflow/contrib/learn/python/learn/datasets/mnist.py:110: dense_to_one_hot (from tensorflow.contrib.learn.python.learn.datasets.mnist) is deprecated and will be removed in a future version.\n",
      "Instructions for updating:\n",
      "Please use tf.one_hot on tensors.\n",
      "Extracting data/MNIST/t10k-images-idx3-ubyte.gz\n",
      "Extracting data/MNIST/t10k-labels-idx1-ubyte.gz\n",
      "WARNING:tensorflow:From /home/sag/anaconda3/envs/mlai/lib/python3.6/site-packages/tensorflow/contrib/learn/python/learn/datasets/mnist.py:290: DataSet.__init__ (from tensorflow.contrib.learn.python.learn.datasets.mnist) is deprecated and will be removed in a future version.\n",
      "Instructions for updating:\n",
      "Please use alternatives such as official/mnist/dataset.py from tensorflow/models.\n",
      "Size of:\n",
      "- Training-set:\t\t55000\n",
      "- Test-set:\t\t10000\n",
      "- Validation-set:\t5000\n"
     ]
    }
   ],
   "source": [
    "# load dataset\n",
    "\n",
    "from tensorflow.examples.tutorials.mnist import input_data\n",
    "data = input_data.read_data_sets('data/MNIST/', one_hot=True)\n",
    "\n",
    "# insights of dataset\n",
    "print(\"Size of:\")\n",
    "print(\"- Training-set:\\t\\t{}\".format(len(data.train.labels)))\n",
    "print(\"- Test-set:\\t\\t{}\".format(len(data.test.labels)))\n",
    "print(\"- Validation-set:\\t{}\".format(len(data.validation.labels)))"
   ]
  },
  {
   "cell_type": "markdown",
   "metadata": {},
   "source": [
    "# Placeholders"
   ]
  },
  {
   "cell_type": "code",
   "execution_count": 3,
   "metadata": {},
   "outputs": [],
   "source": [
    "# placeholder for input images\n",
    "\"\"\"\n",
    "Why reshape to -1? -1 is a placeholder that says \n",
    "\"adjust as necessary to match the size needed for the full tensor.\" \n",
    "It's a way of making the code be independent of the input batch size, \n",
    "so that you can change your pipeline and not have to adjust the batch size \n",
    "everywhere in the code.\n",
    "\"\"\"\n",
    "x = tf.placeholder(tf.float32, [None,28*28], name='X')\n",
    "x_image = tf.reshape(x,[-1,28,28,1])\n",
    "\n",
    "# placeholder for true y labels associated with images\n",
    "y_true = tf.placeholder(tf.float32, [None, 10], name='Y')\n",
    "y_true_cls = tf.argmax(y_true, axis=1)"
   ]
  },
  {
   "cell_type": "markdown",
   "metadata": {},
   "source": [
    "## convolutional layer 1"
   ]
  },
  {
   "cell_type": "code",
   "execution_count": 4,
   "metadata": {},
   "outputs": [],
   "source": [
    "# weights shape = [height_of_filter, width_of_filter, no_ip_channels, depth_of_layer]\n",
    "# here depth_of_layer is no. of feature maps\n",
    "# using 5X5 filter"
   ]
  },
  {
   "cell_type": "code",
   "execution_count": 5,
   "metadata": {},
   "outputs": [
    {
     "data": {
      "text/plain": [
       "<tf.Tensor 'add:0' shape=(?, 28, 28, 6) dtype=float32>"
      ]
     },
     "execution_count": 5,
     "metadata": {},
     "output_type": "execute_result"
    }
   ],
   "source": [
    "w_conv1 = tf.Variable(tf.truncated_normal(shape=[5,5,1,6]))\n",
    "b_conv1 = tf.Variable(tf.constant(0.01, shape=[6]))\n",
    "\n",
    "conv1 = tf.nn.conv2d(x_image, w_conv1, strides=[1,1,1,1], padding='SAME')+ b_conv1\n",
    "# note that output of conv1 is 6 28X28 images\n",
    "conv1"
   ]
  },
  {
   "cell_type": "markdown",
   "metadata": {},
   "source": [
    "## relu layer 1"
   ]
  },
  {
   "cell_type": "code",
   "execution_count": 6,
   "metadata": {},
   "outputs": [
    {
     "data": {
      "text/plain": [
       "<tf.Tensor 'Relu:0' shape=(?, 28, 28, 6) dtype=float32>"
      ]
     },
     "execution_count": 6,
     "metadata": {},
     "output_type": "execute_result"
    }
   ],
   "source": [
    "relu1 = tf.nn.relu(conv1)\n",
    "relu1"
   ]
  },
  {
   "cell_type": "markdown",
   "metadata": {},
   "source": [
    "## pooling layer 1"
   ]
  },
  {
   "cell_type": "code",
   "execution_count": 7,
   "metadata": {},
   "outputs": [
    {
     "data": {
      "text/plain": [
       "<tf.Tensor 'MaxPool:0' shape=(?, 28, 28, 6) dtype=float32>"
      ]
     },
     "execution_count": 7,
     "metadata": {},
     "output_type": "execute_result"
    }
   ],
   "source": [
    "# kernel size [no_of_kernels, kernel_height, kernel_width, no_of_channels]\n",
    "pool1 = tf.nn.max_pool(value=relu1, ksize=[1,2,2,1], strides=[1,1,1,1], padding='SAME')\n",
    "pool1"
   ]
  },
  {
   "cell_type": "markdown",
   "metadata": {},
   "source": [
    "## convolutional layer 2"
   ]
  },
  {
   "cell_type": "code",
   "execution_count": 8,
   "metadata": {},
   "outputs": [
    {
     "data": {
      "text/plain": [
       "<tf.Tensor 'add_1:0' shape=(?, 28, 28, 32) dtype=float32>"
      ]
     },
     "execution_count": 8,
     "metadata": {},
     "output_type": "execute_result"
    }
   ],
   "source": [
    "# <tf.Tensor 'Relu_2:0' shape=(?, 28, 28, 6) dtype=float32>\n",
    "# we have 6 feature maps of 28 by 28\n",
    "# notice : w_conv2 = tf.Variable(tf.truncated_normal(shape=[2,2,6,32]))\n",
    "# now we convolute using 2 by 2 filter and get 32 feature maps\n",
    "\n",
    "w_conv2 = tf.Variable(tf.truncated_normal(shape=[2,2,6,32]))\n",
    "b_conv2 = tf.Variable(tf.constant(0.05, shape=[32]))\n",
    "\n",
    "conv2 = tf.nn.conv2d(pool1, w_conv2, strides=[1,1,1,1], padding='SAME')+ b_conv2\n",
    "# note that output of conv1 is 6 28X28 images\n",
    "conv2"
   ]
  },
  {
   "cell_type": "markdown",
   "metadata": {},
   "source": [
    "## relu layer 2"
   ]
  },
  {
   "cell_type": "code",
   "execution_count": 9,
   "metadata": {},
   "outputs": [
    {
     "data": {
      "text/plain": [
       "<tf.Tensor 'Relu_1:0' shape=(?, 28, 28, 32) dtype=float32>"
      ]
     },
     "execution_count": 9,
     "metadata": {},
     "output_type": "execute_result"
    }
   ],
   "source": [
    "relu2 = tf.nn.relu(conv2)\n",
    "relu2"
   ]
  },
  {
   "cell_type": "markdown",
   "metadata": {},
   "source": [
    "## pooling layer 2"
   ]
  },
  {
   "cell_type": "code",
   "execution_count": 10,
   "metadata": {},
   "outputs": [
    {
     "data": {
      "text/plain": [
       "<tf.Tensor 'MaxPool_1:0' shape=(?, 14, 14, 32) dtype=float32>"
      ]
     },
     "execution_count": 10,
     "metadata": {},
     "output_type": "execute_result"
    }
   ],
   "source": [
    "# kernel size [no_of_kernels, kernel_height, kernel_width, no_of_channels]\n",
    "# notice strides=[1,2,2,1]\n",
    "# after sliding 2 cells at a time dimensionality reduction can be seen\n",
    "# pool2 <tf.Tensor 'MaxPool_2:0' shape=(?, 14, 14, 32) dtype=float32>\n",
    "pool2 = tf.nn.max_pool(value=relu2, ksize=[1,2,2,1], strides=[1,2,2,1], padding='SAME')\n",
    "pool2"
   ]
  },
  {
   "cell_type": "markdown",
   "metadata": {},
   "source": [
    "## fully connected network 1"
   ]
  },
  {
   "cell_type": "code",
   "execution_count": 11,
   "metadata": {},
   "outputs": [
    {
     "data": {
      "text/plain": [
       "<tf.Tensor 'Reshape_1:0' shape=(?, 6272) dtype=float32>"
      ]
     },
     "execution_count": 11,
     "metadata": {},
     "output_type": "execute_result"
    }
   ],
   "source": [
    "# fcn1 fully connected network\n",
    "# now we flatten all the feature maps and\n",
    "# send it to fully connected network\n",
    "\n",
    "fcn_mat1 = tf.reshape(pool2,shape=[-1,14*14*32])\n",
    "fcn_mat1"
   ]
  },
  {
   "cell_type": "code",
   "execution_count": 12,
   "metadata": {},
   "outputs": [
    {
     "data": {
      "text/plain": [
       "<tf.Tensor 'add_2:0' shape=(?, 256) dtype=float32>"
      ]
     },
     "execution_count": 12,
     "metadata": {},
     "output_type": "execute_result"
    }
   ],
   "source": [
    "# weights and biases for fcn1\n",
    "w_fcn1 = tf.Variable(tf.truncated_normal(shape=[14*14*32,256],stddev=0.5))\n",
    "b_fcn1 = tf.Variable(tf.constant(value=0.3 , shape=[256]))\n",
    "\n",
    "# mat mul operation\n",
    "mat_mul_fcn1 = tf.matmul(fcn_mat1,w_fcn1) + b_fcn1\n",
    "mat_mul_fcn1"
   ]
  },
  {
   "cell_type": "markdown",
   "metadata": {},
   "source": [
    "## relu layer 3"
   ]
  },
  {
   "cell_type": "code",
   "execution_count": 13,
   "metadata": {},
   "outputs": [
    {
     "data": {
      "text/plain": [
       "<tf.Tensor 'Relu_2:0' shape=(?, 256) dtype=float32>"
      ]
     },
     "execution_count": 13,
     "metadata": {},
     "output_type": "execute_result"
    }
   ],
   "source": [
    "relu3 = tf.nn.relu(mat_mul_fcn1)\n",
    "relu3"
   ]
  },
  {
   "cell_type": "markdown",
   "metadata": {},
   "source": [
    "## fully connected network 2"
   ]
  },
  {
   "cell_type": "code",
   "execution_count": 14,
   "metadata": {},
   "outputs": [
    {
     "data": {
      "text/plain": [
       "<tf.Tensor 'add_3:0' shape=(?, 10) dtype=float32>"
      ]
     },
     "execution_count": 14,
     "metadata": {},
     "output_type": "execute_result"
    }
   ],
   "source": [
    "# weights and biases for fcn1\n",
    "w_fcn2 = tf.Variable(tf.truncated_normal(shape=[256,10],stddev=0.5))\n",
    "b_fcn2 = tf.Variable(tf.constant(value=0.05 , shape=[10]))\n",
    "\n",
    "# mat mul operation\n",
    "mat_mul_fcn2 = tf.matmul(relu3,w_fcn2) + b_fcn2\n",
    "mat_mul_fcn2"
   ]
  },
  {
   "cell_type": "markdown",
   "metadata": {},
   "source": [
    "## applying softmax"
   ]
  },
  {
   "cell_type": "code",
   "execution_count": 15,
   "metadata": {},
   "outputs": [],
   "source": [
    "# softmax will generate probabilities \n",
    "# or scores of each digit we need to choose max probability\n",
    "# axis = 1 meaning in columns\n",
    "\n",
    "y_pred = tf.nn.softmax(mat_mul_fcn2)\n",
    "y_pred_cls = tf.argmax(y_pred,axis=1)"
   ]
  },
  {
   "cell_type": "code",
   "execution_count": null,
   "metadata": {},
   "outputs": [],
   "source": []
  },
  {
   "cell_type": "markdown",
   "metadata": {},
   "source": [
    "# cost function"
   ]
  },
  {
   "cell_type": "code",
   "execution_count": 16,
   "metadata": {},
   "outputs": [],
   "source": [
    "cross_entropy = tf.nn.softmax_cross_entropy_with_logits_v2(logits=mat_mul_fcn2, labels=y_true)\n",
    "cost =tf.reduce_mean(cross_entropy)"
   ]
  },
  {
   "cell_type": "markdown",
   "metadata": {},
   "source": [
    "# optimiser and accuracy"
   ]
  },
  {
   "cell_type": "code",
   "execution_count": 17,
   "metadata": {},
   "outputs": [],
   "source": [
    "# using adam optimiser\n",
    "optimizer = tf.train.AdamOptimizer(learning_rate=1e-4).minimize(cost)\n",
    "\n",
    "# Accuracy\n",
    "correct_prediction = tf.equal(y_pred_cls, y_true_cls)\n",
    "\n",
    "# this is to convert integer to float32 for accuracy check\n",
    "accuracy = tf.reduce_mean(tf.cast(correct_prediction, tf.float32))"
   ]
  },
  {
   "cell_type": "markdown",
   "metadata": {},
   "source": [
    "## setting parameters"
   ]
  },
  {
   "cell_type": "code",
   "execution_count": 18,
   "metadata": {},
   "outputs": [],
   "source": [
    "num_epochs = 5\n",
    "batch_size = 100"
   ]
  },
  {
   "cell_type": "markdown",
   "metadata": {},
   "source": [
    "# Session"
   ]
  },
  {
   "cell_type": "code",
   "execution_count": 19,
   "metadata": {},
   "outputs": [],
   "source": [
    "sess = tf.InteractiveSession()"
   ]
  },
  {
   "cell_type": "code",
   "execution_count": 20,
   "metadata": {},
   "outputs": [
    {
     "name": "stdout",
     "output_type": "stream",
     "text": [
      "Epoch 1 completed : Time usage 48 seconds\n",
      "\tAccuracy:\n",
      "\t- Training Accuracy:\t0.2823999995365739\n",
      "\t- Validation Accuracy:\t0.4519999921321869\n",
      "\t- Test Accuracy:\t0.4000000059604645\n",
      "Epoch 2 completed : Time usage 42 seconds\n",
      "\tAccuracy:\n",
      "\t- Training Accuracy:\t0.5526000007987022\n",
      "\t- Validation Accuracy:\t0.6489999890327454\n",
      "\t- Test Accuracy:\t0.699999988079071\n",
      "Epoch 3 completed : Time usage 40 seconds\n",
      "\tAccuracy:\n",
      "\t- Training Accuracy:\t0.6924000012874604\n",
      "\t- Validation Accuracy:\t0.7305999994277954\n",
      "\t- Test Accuracy:\t0.800000011920929\n",
      "Epoch 4 completed : Time usage 38 seconds\n",
      "\tAccuracy:\n",
      "\t- Training Accuracy:\t0.7519999986886978\n",
      "\t- Validation Accuracy:\t0.7764000296592712\n",
      "\t- Test Accuracy:\t0.8100000023841858\n",
      "Epoch 5 completed : Time usage 40 seconds\n",
      "\tAccuracy:\n",
      "\t- Training Accuracy:\t0.7870999991893768\n",
      "\t- Validation Accuracy:\t0.8090000152587891\n",
      "\t- Test Accuracy:\t0.75\n",
      "Total time required to train:  210.71363878250122\n"
     ]
    }
   ],
   "source": [
    "train_acc_array = []\n",
    "valid_acc_array = []\n",
    "test_acc_array = []\n",
    "pred_results = []\n",
    "\n",
    "# initialize all global variables\n",
    "sess.run(tf.initializers.global_variables())\n",
    "total_time_t0 = time.time()\n",
    "\n",
    "for epochs in range(num_epochs):\n",
    "\n",
    "    start_time = time.time()\n",
    "    train_accuracy = 0\n",
    "\n",
    "    # Training-set consists: 55000\n",
    "    # Using only 50 epochs\n",
    "    # Training only 10 batches per epoch\n",
    "    # Therefore total of 50*10 iterations\n",
    "    for batch in range(100):\n",
    "\n",
    "        # get batch of images and labels\n",
    "        x_batch, y_true_batch = data.train.next_batch(batch_size)\n",
    "\n",
    "        # set feed_dict_train\n",
    "        feed_dict_train = {x:x_batch, y_true:y_true_batch}\n",
    "\n",
    "        # feed dictionary into optimiser for training\n",
    "        sess.run(optimizer,feed_dict=feed_dict_train)\n",
    "\n",
    "        # Calculate the cumulative accuracy on the batch of training data\n",
    "        train_accuracy += sess.run(accuracy, feed_dict=feed_dict_train)\n",
    "        # print(\"*** Train_accuracy_batch\",train_accuracy)\n",
    "\n",
    "\n",
    "    # get validation sets\n",
    "    v_img, v_labels = data.validation.next_batch(100)\n",
    "    # feed validation set\n",
    "    vali_accuracy = sess.run(accuracy, feed_dict={x:data.validation.images, y_true:data.validation.labels})\n",
    "\n",
    "    # get test sets\n",
    "    tst_imgs, tst_labels = data.test.next_batch(100)\n",
    "    # check over test set\n",
    "    test_accuracy = sess.run(accuracy, feed_dict={x:tst_imgs, y_true:tst_labels})\n",
    "    \n",
    "    # printing test images and their labels\n",
    "    pred_batch_x, pred_batch_y = data.test.next_batch(5)\n",
    "    pred_results.append([pred_batch_x,sess.run(y_pred,feed_dict={x:pred_batch_x})])\n",
    "\n",
    "    # average train accuracy\n",
    "    # train_accuracy /= int(len(data.train.labels)/batch_size)\n",
    "    train_accuracy /= 100\n",
    "    \n",
    "    # appending in arrays for plotting\n",
    "    train_acc_array.append(train_accuracy)\n",
    "    valid_acc_array.append(vali_accuracy)\n",
    "    test_acc_array.append(test_accuracy)\n",
    "    \n",
    "\n",
    "    end_time = time.time()\n",
    "    print(\"Epoch \"+str(epochs+1)+\" completed : Time usage \"+str(int(end_time-start_time))+\" seconds\")\n",
    "    print(\"\\tAccuracy:\")\n",
    "    print (\"\\t- Training Accuracy:\\t{}\".format(train_accuracy))\n",
    "    print (\"\\t- Validation Accuracy:\\t{}\".format(vali_accuracy))\n",
    "    print (\"\\t- Test Accuracy:\\t{}\".format(test_accuracy))\n",
    "\n",
    "total_time_tn = time.time()\n",
    "print(\"Total time required to train: \",total_time_tn-total_time_t0)"
   ]
  },
  {
   "cell_type": "markdown",
   "metadata": {},
   "source": [
    "# Visualising"
   ]
  },
  {
   "cell_type": "code",
   "execution_count": 21,
   "metadata": {},
   "outputs": [
    {
     "data": {
      "text/plain": [
       "[array([[0., 0., 0., ..., 0., 0., 0.],\n",
       "        [0., 0., 0., ..., 0., 0., 0.],\n",
       "        [0., 0., 0., ..., 0., 0., 0.],\n",
       "        [0., 0., 0., ..., 0., 0., 0.],\n",
       "        [0., 0., 0., ..., 0., 0., 0.]], dtype=float32),\n",
       " array([[0.0000000e+00, 0.0000000e+00, 0.0000000e+00, 1.0000000e+00,\n",
       "         0.0000000e+00, 0.0000000e+00, 0.0000000e+00, 0.0000000e+00,\n",
       "         0.0000000e+00, 0.0000000e+00],\n",
       "        [0.0000000e+00, 0.0000000e+00, 1.0000000e+00, 0.0000000e+00,\n",
       "         0.0000000e+00, 0.0000000e+00, 0.0000000e+00, 0.0000000e+00,\n",
       "         0.0000000e+00, 0.0000000e+00],\n",
       "        [8.1661946e-36, 0.0000000e+00, 0.0000000e+00, 0.0000000e+00,\n",
       "         0.0000000e+00, 1.0000000e+00, 0.0000000e+00, 0.0000000e+00,\n",
       "         0.0000000e+00, 0.0000000e+00],\n",
       "        [0.0000000e+00, 0.0000000e+00, 0.0000000e+00, 0.0000000e+00,\n",
       "         0.0000000e+00, 0.0000000e+00, 0.0000000e+00, 1.0000000e+00,\n",
       "         0.0000000e+00, 0.0000000e+00],\n",
       "        [0.0000000e+00, 0.0000000e+00, 0.0000000e+00, 0.0000000e+00,\n",
       "         0.0000000e+00, 1.0000000e+00, 0.0000000e+00, 0.0000000e+00,\n",
       "         0.0000000e+00, 0.0000000e+00]], dtype=float32)]"
      ]
     },
     "execution_count": 21,
     "metadata": {},
     "output_type": "execute_result"
    }
   ],
   "source": [
    "pred_results[4]"
   ]
  },
  {
   "cell_type": "code",
   "execution_count": 23,
   "metadata": {},
   "outputs": [
    {
     "data": {
      "text/plain": [
       "array([0.        , 0.        , 0.        , 0.        , 0.        ,\n",
       "       0.        , 0.        , 0.        , 0.        , 0.        ,\n",
       "       0.        , 0.        , 0.        , 0.        , 0.        ,\n",
       "       0.        , 0.        , 0.        , 0.        , 0.        ,\n",
       "       0.        , 0.        , 0.        , 0.        , 0.        ,\n",
       "       0.        , 0.        , 0.        , 0.        , 0.        ,\n",
       "       0.        , 0.        , 0.        , 0.        , 0.        ,\n",
       "       0.        , 0.        , 0.        , 0.        , 0.        ,\n",
       "       0.        , 0.        , 0.        , 0.        , 0.        ,\n",
       "       0.        , 0.        , 0.        , 0.        , 0.        ,\n",
       "       0.        , 0.        , 0.        , 0.        , 0.        ,\n",
       "       0.        , 0.        , 0.        , 0.        , 0.        ,\n",
       "       0.        , 0.        , 0.        , 0.        , 0.        ,\n",
       "       0.        , 0.        , 0.        , 0.        , 0.        ,\n",
       "       0.        , 0.        , 0.        , 0.        , 0.        ,\n",
       "       0.        , 0.        , 0.        , 0.        , 0.        ,\n",
       "       0.        , 0.        , 0.        , 0.        , 0.        ,\n",
       "       0.        , 0.        , 0.        , 0.        , 0.        ,\n",
       "       0.        , 0.        , 0.        , 0.        , 0.        ,\n",
       "       0.        , 0.        , 0.        , 0.        , 0.        ,\n",
       "       0.        , 0.        , 0.        , 0.        , 0.        ,\n",
       "       0.        , 0.        , 0.        , 0.        , 0.        ,\n",
       "       0.        , 0.        , 0.        , 0.        , 0.        ,\n",
       "       0.        , 0.        , 0.        , 0.10980393, 0.52156866,\n",
       "       0.5764706 , 0.8941177 , 0.8000001 , 0.5764706 , 0.2509804 ,\n",
       "       0.01568628, 0.        , 0.        , 0.        , 0.        ,\n",
       "       0.        , 0.        , 0.        , 0.        , 0.        ,\n",
       "       0.        , 0.        , 0.        , 0.        , 0.        ,\n",
       "       0.        , 0.        , 0.        , 0.        , 0.        ,\n",
       "       0.10980393, 0.9215687 , 0.9960785 , 0.9960785 , 0.9960785 ,\n",
       "       0.9960785 , 0.9960785 , 0.9960785 , 0.74509805, 0.454902  ,\n",
       "       0.19215688, 0.        , 0.        , 0.        , 0.        ,\n",
       "       0.        , 0.        , 0.        , 0.        , 0.        ,\n",
       "       0.        , 0.        , 0.        , 0.        , 0.        ,\n",
       "       0.        , 0.        , 0.        , 0.01960784, 0.43529415,\n",
       "       0.54901963, 0.54901963, 0.54901963, 0.7490196 , 0.9803922 ,\n",
       "       0.9960785 , 0.9960785 , 0.9960785 , 0.95294124, 0.43921572,\n",
       "       0.00784314, 0.        , 0.        , 0.        , 0.        ,\n",
       "       0.        , 0.        , 0.        , 0.        , 0.        ,\n",
       "       0.        , 0.        , 0.        , 0.        , 0.        ,\n",
       "       0.        , 0.        , 0.        , 0.        , 0.        ,\n",
       "       0.        , 0.        , 0.07843138, 0.4039216 , 0.60784316,\n",
       "       0.93725497, 0.9960785 , 0.9960785 , 0.6313726 , 0.03529412,\n",
       "       0.        , 0.        , 0.        , 0.        , 0.        ,\n",
       "       0.        , 0.        , 0.        , 0.        , 0.        ,\n",
       "       0.        , 0.        , 0.        , 0.        , 0.        ,\n",
       "       0.        , 0.        , 0.        , 0.        , 0.        ,\n",
       "       0.        , 0.        , 0.        , 0.16470589, 0.5882353 ,\n",
       "       0.9803922 , 0.9960785 , 0.45098042, 0.01568628, 0.        ,\n",
       "       0.        , 0.        , 0.        , 0.        , 0.        ,\n",
       "       0.        , 0.        , 0.        , 0.        , 0.        ,\n",
       "       0.        , 0.        , 0.        , 0.        , 0.        ,\n",
       "       0.        , 0.        , 0.        , 0.        , 0.        ,\n",
       "       0.        , 0.        , 0.        , 0.13333334, 0.83921576,\n",
       "       0.9960785 , 0.8078432 , 0.01568628, 0.        , 0.        ,\n",
       "       0.        , 0.        , 0.        , 0.        , 0.        ,\n",
       "       0.        , 0.        , 0.        , 0.        , 0.        ,\n",
       "       0.        , 0.        , 0.        , 0.        , 0.        ,\n",
       "       0.        , 0.        , 0.        , 0.        , 0.        ,\n",
       "       0.        , 0.        , 0.3529412 , 0.9607844 , 0.9960785 ,\n",
       "       0.5803922 , 0.        , 0.        , 0.        , 0.        ,\n",
       "       0.        , 0.        , 0.        , 0.        , 0.        ,\n",
       "       0.        , 0.        , 0.        , 0.        , 0.        ,\n",
       "       0.        , 0.        , 0.        , 0.        , 0.        ,\n",
       "       0.        , 0.        , 0.        , 0.        , 0.        ,\n",
       "       0.        , 0.8117648 , 0.9960785 , 0.7411765 , 0.        ,\n",
       "       0.        , 0.        , 0.        , 0.        , 0.        ,\n",
       "       0.        , 0.        , 0.        , 0.        , 0.        ,\n",
       "       0.        , 0.        , 0.        , 0.        , 0.        ,\n",
       "       0.        , 0.        , 0.        , 0.        , 0.        ,\n",
       "       0.        , 0.        , 0.        , 0.        , 0.8117648 ,\n",
       "       0.9960785 , 0.7411765 , 0.        , 0.        , 0.        ,\n",
       "       0.        , 0.        , 0.        , 0.        , 0.        ,\n",
       "       0.        , 0.        , 0.        , 0.        , 0.        ,\n",
       "       0.        , 0.        , 0.        , 0.        , 0.        ,\n",
       "       0.        , 0.        , 0.        , 0.        , 0.        ,\n",
       "       0.        , 0.24313727, 0.9294118 , 0.9960785 , 0.6509804 ,\n",
       "       0.        , 0.        , 0.        , 0.        , 0.        ,\n",
       "       0.        , 0.        , 0.        , 0.        , 0.        ,\n",
       "       0.        , 0.        , 0.        , 0.        , 0.        ,\n",
       "       0.        , 0.        , 0.        , 0.        , 0.        ,\n",
       "       0.        , 0.        , 0.        , 0.        , 0.65882355,\n",
       "       0.9960785 , 0.91372555, 0.06666667, 0.        , 0.        ,\n",
       "       0.        , 0.        , 0.        , 0.        , 0.        ,\n",
       "       0.        , 0.        , 0.        , 0.        , 0.        ,\n",
       "       0.        , 0.        , 0.        , 0.        , 0.        ,\n",
       "       0.        , 0.        , 0.        , 0.        , 0.        ,\n",
       "       0.        , 0.5176471 , 0.97647065, 0.9960785 , 0.63529414,\n",
       "       0.        , 0.        , 0.        , 0.        , 0.        ,\n",
       "       0.        , 0.        , 0.        , 0.        , 0.        ,\n",
       "       0.        , 0.        , 0.        , 0.        , 0.        ,\n",
       "       0.        , 0.        , 0.        , 0.        , 0.        ,\n",
       "       0.        , 0.        , 0.0509804 , 0.3921569 , 0.97647065,\n",
       "       0.9960785 , 0.6431373 , 0.01568628, 0.        , 0.        ,\n",
       "       0.        , 0.        , 0.        , 0.        , 0.        ,\n",
       "       0.        , 0.        , 0.        , 0.        , 0.        ,\n",
       "       0.        , 0.        , 0.        , 0.        , 0.        ,\n",
       "       0.        , 0.        , 0.        , 0.        , 0.02745098,\n",
       "       0.5137255 , 0.9960785 , 0.9960785 , 0.6431373 , 0.03921569,\n",
       "       0.        , 0.        , 0.        , 0.        , 0.        ,\n",
       "       0.        , 0.        , 0.        , 0.        , 0.        ,\n",
       "       0.        , 0.        , 0.        , 0.        , 0.        ,\n",
       "       0.        , 0.        , 0.        , 0.        , 0.        ,\n",
       "       0.        , 0.23137257, 0.74509805, 0.9960785 , 0.9960785 ,\n",
       "       0.28235295, 0.01568628, 0.        , 0.        , 0.        ,\n",
       "       0.09019608, 0.5254902 , 0.20392159, 0.        , 0.        ,\n",
       "       0.        , 0.        , 0.        , 0.        , 0.        ,\n",
       "       0.        , 0.        , 0.        , 0.        , 0.        ,\n",
       "       0.        , 0.        , 0.01176471, 0.34117648, 0.92549026,\n",
       "       1.        , 0.9450981 , 0.40784317, 0.01960784, 0.        ,\n",
       "       0.21176472, 0.30588236, 0.68235296, 0.9450981 , 0.8000001 ,\n",
       "       0.23137257, 0.        , 0.        , 0.        , 0.        ,\n",
       "       0.        , 0.        , 0.        , 0.        , 0.        ,\n",
       "       0.        , 0.        , 0.        , 0.        , 0.13333334,\n",
       "       0.6117647 , 0.9960785 , 0.9960785 , 0.8000001 , 0.28627452,\n",
       "       0.32156864, 0.62352943, 0.8313726 , 0.9686275 , 0.9960785 ,\n",
       "       0.72156864, 0.2392157 , 0.07450981, 0.        , 0.        ,\n",
       "       0.        , 0.        , 0.        , 0.        , 0.        ,\n",
       "       0.        , 0.        , 0.        , 0.        , 0.        ,\n",
       "       0.        , 0.15294118, 0.69411767, 0.9960785 , 0.9960785 ,\n",
       "       0.9960785 , 0.59607846, 0.82745105, 0.9960785 , 0.98823535,\n",
       "       0.8705883 , 0.7058824 , 0.21960786, 0.00784314, 0.        ,\n",
       "       0.        , 0.        , 0.        , 0.        , 0.        ,\n",
       "       0.        , 0.        , 0.        , 0.        , 0.        ,\n",
       "       0.        , 0.        , 0.        , 0.        , 0.59607846,\n",
       "       0.9960785 , 0.9960785 , 0.9960785 , 0.9960785 , 0.9960785 ,\n",
       "       0.8196079 , 0.38823533, 0.27058825, 0.        , 0.        ,\n",
       "       0.        , 0.        , 0.        , 0.        , 0.        ,\n",
       "       0.        , 0.        , 0.        , 0.        , 0.        ,\n",
       "       0.        , 0.        , 0.        , 0.        , 0.        ,\n",
       "       0.        , 0.        , 0.16078432, 0.7058824 , 0.9803922 ,\n",
       "       0.57254905, 0.57254905, 0.3647059 , 0.05490196, 0.        ,\n",
       "       0.        , 0.        , 0.        , 0.        , 0.        ,\n",
       "       0.        , 0.        , 0.        , 0.        , 0.        ,\n",
       "       0.        , 0.        , 0.        , 0.        , 0.        ,\n",
       "       0.        , 0.        , 0.        , 0.        , 0.        ,\n",
       "       0.        , 0.        , 0.        , 0.        , 0.        ,\n",
       "       0.        , 0.        , 0.        , 0.        , 0.        ,\n",
       "       0.        , 0.        , 0.        , 0.        , 0.        ,\n",
       "       0.        , 0.        , 0.        , 0.        , 0.        ,\n",
       "       0.        , 0.        , 0.        , 0.        , 0.        ,\n",
       "       0.        , 0.        , 0.        , 0.        , 0.        ,\n",
       "       0.        , 0.        , 0.        , 0.        , 0.        ,\n",
       "       0.        , 0.        , 0.        , 0.        , 0.        ,\n",
       "       0.        , 0.        , 0.        , 0.        , 0.        ,\n",
       "       0.        , 0.        , 0.        , 0.        , 0.        ,\n",
       "       0.        , 0.        , 0.        , 0.        , 0.        ,\n",
       "       0.        , 0.        , 0.        , 0.        , 0.        ,\n",
       "       0.        , 0.        , 0.        , 0.        , 0.        ,\n",
       "       0.        , 0.        , 0.        , 0.        , 0.        ,\n",
       "       0.        , 0.        , 0.        , 0.        , 0.        ,\n",
       "       0.        , 0.        , 0.        , 0.        , 0.        ,\n",
       "       0.        , 0.        , 0.        , 0.        , 0.        ,\n",
       "       0.        , 0.        , 0.        , 0.        , 0.        ,\n",
       "       0.        , 0.        , 0.        , 0.        , 0.        ,\n",
       "       0.        , 0.        , 0.        , 0.        , 0.        ,\n",
       "       0.        , 0.        , 0.        , 0.        ], dtype=float32)"
      ]
     },
     "execution_count": 23,
     "metadata": {},
     "output_type": "execute_result"
    }
   ],
   "source": [
    "pred_results[4][0][0]"
   ]
  },
  {
   "cell_type": "code",
   "execution_count": 22,
   "metadata": {},
   "outputs": [
    {
     "name": "stdout",
     "output_type": "stream",
     "text": [
      "3\n",
      "2\n",
      "5\n",
      "7\n"
     ]
    },
    {
     "data": {
      "image/png": "[encoded data removed]",
      "text/plain": [
       "<Figure size 432x288 with 4 Axes>"
      ]
     },
     "metadata": {},
     "output_type": "display_data"
    }
   ],
   "source": [
    "f, axarr = plt.subplots(2,2)\n",
    "axarr[0,0].imshow(np.reshape(pred_results[4][0][0],(28,28)),cmap='gray');print(np.argmax(pred_results[4][1][0]))\n",
    "axarr[0,1].imshow(np.reshape(pred_results[4][0][1],(28,28)),cmap='gray');print(np.argmax(pred_results[4][1][1]))\n",
    "axarr[1,0].imshow(np.reshape(pred_results[4][0][2],(28,28)),cmap='gray');print(np.argmax(pred_results[4][1][2]))\n",
    "axarr[1,1].imshow(np.reshape(pred_results[4][0][3],(28,28)),cmap='gray');print(np.argmax(pred_results[4][1][3]))\n",
    "plt.show()"
   ]
  }
 ],
 "metadata": {
  "kernelspec": {
   "display_name": "Python 3",
   "language": "python",
   "name": "python3"
  },
  "language_info": {
   "codemirror_mode": {
    "name": "ipython",
    "version": 3
   },
   "file_extension": ".py",
   "mimetype": "text/x-python",
   "name": "python",
   "nbconvert_exporter": "python",
   "pygments_lexer": "ipython3",
   "version": "3.6.6"
  },
  "varInspector": {
   "cols": {
    "lenName": 16,
    "lenType": 16,
    "lenVar": 40
   },
   "kernels_config": {
    "python": {
     "delete_cmd_postfix": "",
     "delete_cmd_prefix": "del ",
     "library": "var_list.py",
     "varRefreshCmd": "print(var_dic_list())"
    },
    "r": {
     "delete_cmd_postfix": ") ",
     "delete_cmd_prefix": "rm(",
     "library": "var_list.r",
     "varRefreshCmd": "cat(var_dic_list()) "
    }
   },
   "types_to_exclude": [
    "module",
    "function",
    "builtin_function_or_method",
    "instance",
    "_Feature"
   ],
   "window_display": false
  }
 },
 "nbformat": 4,
 "nbformat_minor": 2
}
