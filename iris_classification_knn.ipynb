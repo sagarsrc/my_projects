{
 "cells": [
  {
   "cell_type": "markdown",
   "metadata": {},
   "source": [
    "Importing Libraries\n",
    "==========="
   ]
  },
  {
   "cell_type": "code",
   "execution_count": 1,
   "metadata": {},
   "outputs": [],
   "source": [
    "from sklearn import datasets, neighbors\n",
    "from sklearn.model_selection import train_test_split as tts\n",
    "import matplotlib.pyplot as plt\n",
    "import numpy as np\n",
    "\n",
    "%matplotlib inline"
   ]
  },
  {
   "cell_type": "markdown",
   "metadata": {},
   "source": [
    "kNN classifier\n",
    "============\n",
    "\n",
    "Prepare dataset\n",
    "\n",
    "First we will prepare the dataset. The dataset we choose is a modified  version of the [Iris dataset](https://archive.ics.uci.edu/ml/datasets/Iris). We choose only the first two input feature dimensions viz _sepal-length_ and _sepal-width_ (both in cm) for ease of visualization. "
   ]
  },
  {
   "cell_type": "code",
   "execution_count": 2,
   "metadata": {},
   "outputs": [
    {
     "name": "stdout",
     "output_type": "stream",
     "text": [
      "Features ['sepal length (cm)', 'sepal width (cm)', 'petal length (cm)', 'petal width (cm)'] \n",
      "Target values ['setosa' 'versicolor' 'virginica']\n"
     ]
    }
   ],
   "source": [
    "iris = datasets.load_iris()\n",
    "print(\"Features\",iris.feature_names,\"\\nTarget values\",iris.target_names)\n",
    "\n",
    "x = iris.data[:,0:2]\n",
    "y = iris.target[:]\n",
    "\n",
    "x_train, x_test, y_train, y_test = tts(x,y, test_size=.25, shuffle=True,\n",
    "                                       random_state=9)"
   ]
  },
  {
   "cell_type": "markdown",
   "metadata": {},
   "source": [
    "Visualising data\n",
    "========"
   ]
  },
  {
   "cell_type": "code",
   "execution_count": 3,
   "metadata": {},
   "outputs": [],
   "source": [
    "x_class0 = []; y_class0 = [];\n",
    "x_class1 = []; y_class1 = [];\n",
    "x_class2 = []; y_class2 = [];\n",
    "\n",
    "for i in range(0,len(x_train)):\n",
    "    if y_train[i] == 0:\n",
    "        x_class0.append(x_train[i])\n",
    "        y_class0.append(y_train[i])\n",
    "    elif y_train[i] == 1:\n",
    "        x_class1.append(x_train[i])\n",
    "        y_class1.append(y_train[i])\n",
    "    else:\n",
    "        x_class2.append(x_train[i])\n",
    "        y_class2.append(y_train[i])\n",
    "\n",
    "# converting lists to matrix\n",
    "# models accept the i/p as matrix\n",
    "# matplotlib needs i/p as array\n",
    "x_class0 = np.asmatrix(x_class0); y_class0 = np.asmatrix(y_class0);\n",
    "x_class1 = np.asmatrix(x_class1); y_class1 = np.asmatrix(y_class1);\n",
    "x_class2 = np.asmatrix(x_class2); y_class2 = np.asmatrix(y_class2);"
   ]
  },
  {
   "cell_type": "code",
   "execution_count": 4,
   "metadata": {},
   "outputs": [
    {
     "data": {
      "text/plain": [
       "[]"
      ]
     },
     "execution_count": 4,
     "metadata": {},
     "output_type": "execute_result"
    },
    {
     "data": {
      "image/png": "[encoded data removed]",
      "text/plain": [
       "<Figure size 432x288 with 1 Axes>"
      ]
     },
     "metadata": {},
     "output_type": "display_data"
    }
   ],
   "source": [
    "plt.figure()\n",
    "# plotting sepal length vs sepal width\n",
    "plt.scatter(np.asarray(x_class0[:,0]),np.asarray(x_class0[:,1]), color='green')\n",
    "plt.scatter(np.asarray(x_class1[:,0]),np.asarray(x_class1[:,1]), color='blue')\n",
    "plt.scatter(np.asarray(x_class2[:,0]),np.asarray(x_class2[:,1]), color='red')\n",
    "\n",
    "plt.legend(['class 0','class 1','class 2'])\n",
    "plt.xlabel(\"sepal length\")\n",
    "plt.ylabel(\"sepal width\")\n",
    "plt.title(\"3 classes of iris dataset\")\n",
    "plt.plot()"
   ]
  },
  {
   "cell_type": "markdown",
   "metadata": {},
   "source": [
    "k Nearest Neighbour classifier\n",
    "============="
   ]
  },
  {
   "cell_type": "code",
   "execution_count": 5,
   "metadata": {},
   "outputs": [
    {
     "data": {
      "text/plain": [
       "KNeighborsClassifier(algorithm='auto', leaf_size=30, metric='minkowski',\n",
       "           metric_params=None, n_jobs=1, n_neighbors=5, p=2,\n",
       "           weights='uniform')"
      ]
     },
     "execution_count": 5,
     "metadata": {},
     "output_type": "execute_result"
    }
   ],
   "source": [
    "# specifying k no. of neighbours near the query point here k = 5\n",
    "model = neighbors.KNeighborsClassifier(n_neighbors=5)\n",
    "model.fit(x_train,y_train)"
   ]
  },
  {
   "cell_type": "markdown",
   "metadata": {},
   "source": [
    "Visualize the working of the algorithm\n",
    "=====================\n",
    "We choose the first point in the test set as our query point."
   ]
  },
  {
   "cell_type": "code",
   "execution_count": 6,
   "metadata": {},
   "outputs": [
    {
     "name": "stdout",
     "output_type": "stream",
     "text": [
      "Query point: [5.8 2.7]\n",
      "True class of query point: 1\n",
      "Predicted class for query point: [1]\n"
     ]
    }
   ],
   "source": [
    "query_point = np.array([5.8,2.7])\n",
    "true_class_of_query_point = 1\n",
    "predicted_class_for_query_point = model.predict([query_point])\n",
    "print(\"Query point: {}\".format(query_point))\n",
    "print(\"True class of query point: {}\".\n",
    "      format(true_class_of_query_point))\n",
    "print(\"Predicted class for query point: {}\".\n",
    "      format(predicted_class_for_query_point))"
   ]
  },
  {
   "cell_type": "markdown",
   "metadata": {},
   "source": [
    "Visualising Query point and nearest neighbours\n",
    "========="
   ]
  },
  {
   "cell_type": "code",
   "execution_count": 7,
   "metadata": {},
   "outputs": [
    {
     "data": {
      "text/plain": [
       "NearestNeighbors(algorithm='auto', leaf_size=30, metric='minkowski',\n",
       "         metric_params=None, n_jobs=1, n_neighbors=6, p=2, radius=1.0)"
      ]
     },
     "execution_count": 7,
     "metadata": {},
     "output_type": "execute_result"
    }
   ],
   "source": [
    "# neighbours object\n",
    "neighbors_obj = neighbors.NearestNeighbors(n_neighbors=6)\n",
    "neighbors_obj.fit(x_train)"
   ]
  },
  {
   "cell_type": "code",
   "execution_count": 8,
   "metadata": {},
   "outputs": [
    {
     "name": "stdout",
     "output_type": "stream",
     "text": [
      "[[0.         0.1        0.1        0.14142136 0.2        0.2236068 ]]\n",
      "[[ 86  62 110  74  39  31]]\n"
     ]
    }
   ],
   "source": [
    "# NN = Nearest Neighbours\n",
    "dist_of_NN, indices_of_NN_of_query_point = neighbors_obj.kneighbors([query_point])\n",
    "print(dist_of_NN)\n",
    "print(indices_of_NN_of_query_point)"
   ]
  },
  {
   "cell_type": "code",
   "execution_count": 9,
   "metadata": {},
   "outputs": [
    {
     "data": {
      "text/plain": [
       "array([[5.8, 2.7],\n",
       "       [5.8, 2.8],\n",
       "       [5.8, 2.6],\n",
       "       [5.7, 2.8],\n",
       "       [6. , 2.7],\n",
       "       [5.7, 2.9]])"
      ]
     },
     "execution_count": 9,
     "metadata": {},
     "output_type": "execute_result"
    }
   ],
   "source": [
    "# analyzing a query point\n",
    "NN_of_query_point = x_train[indices_of_NN_of_query_point[0]]\n",
    "NN_of_query_point"
   ]
  },
  {
   "cell_type": "code",
   "execution_count": 10,
   "metadata": {},
   "outputs": [
    {
     "name": "stdout",
     "output_type": "stream",
     "text": [
      "The classes of the nearest neighbors are: [2 2 1 1 1 1]\n",
      "\n",
      "Predicted class for query point: 1\n"
     ]
    }
   ],
   "source": [
    "print(\"The classes of the nearest neighbors are: {}\\n\"\n",
    "      .format(y_train[indices_of_NN_of_query_point[0]]))\n",
    "print(\"Predicted class for query point: {}\"\n",
    "      .format(predicted_class_for_query_point[0]))"
   ]
  },
  {
   "cell_type": "code",
   "execution_count": 11,
   "metadata": {},
   "outputs": [
    {
     "data": {
      "image/png": "[encoded data removed]",
      "text/plain": [
       "<Figure size 432x288 with 1 Axes>"
      ]
     },
     "metadata": {},
     "output_type": "display_data"
    }
   ],
   "source": [
    "plt.scatter(np.asarray(x_class0[:,0]), np.asarray(x_class0[:,1]),color='red')\n",
    "plt.scatter(np.asarray(x_class1[:,0]), np.asarray(x_class1[:,1]),color='blue')\n",
    "plt.scatter(np.asarray(x_class2[:,0]), np.asarray(x_class2[:,1]),color='green')\n",
    "plt.scatter(query_point[0], query_point[1],marker='^',s=75,color='black')\n",
    "plt.scatter(NN_of_query_point[:,0], NN_of_query_point[:,1]\n",
    "            ,marker='s',s=150,color='yellow',alpha=0.30)\n",
    "plt.xlabel('sepal length')\n",
    "plt.ylabel('sepal width')\n",
    "plt.legend(['class 0','class 1','class 2'])\n",
    "plt.title('Fig 3: Working of the K-NN classification algorithm')\n",
    "plt.show()"
   ]
  },
  {
   "cell_type": "markdown",
   "metadata": {},
   "source": [
    "Evaluating model\n",
    "========"
   ]
  },
  {
   "cell_type": "code",
   "execution_count": 12,
   "metadata": {},
   "outputs": [],
   "source": [
    "def test_kNN_performance(model, x_test, y_test):\n",
    "    test_pred = []\n",
    "    misclassifications = 0\n",
    "    \n",
    "    for i in range(len(x_test)):\n",
    "        # note we need to pass a matrix\n",
    "        test_pred.append(model.predict(np.asmatrix(x_test[i])))\n",
    "        \n",
    "        # counting misclassifications\n",
    "        if y_test[i] != test_pred[i]:\n",
    "            misclassifications += 1\n",
    "    print(\"No. of misclassifications: \",misclassifications)\n",
    "    print(\"Total test units: \",len(y_test))\n",
    "\n",
    "    m = (misclassifications/len(y_test))*100\n",
    "    print(\"Total % of misclassification: \",m)\n",
    "    return m"
   ]
  },
  {
   "cell_type": "code",
   "execution_count": 13,
   "metadata": {},
   "outputs": [
    {
     "name": "stdout",
     "output_type": "stream",
     "text": [
      "No. of misclassifications:  7\n",
      "Total test units:  38\n",
      "Total % of misclassification:  18.421052631578945\n"
     ]
    }
   ],
   "source": [
    "# evaluating the model\n",
    "m = test_kNN_performance(model, x_test, y_test)"
   ]
  }
 ],
 "metadata": {
  "kernelspec": {
   "display_name": "Python 3",
   "language": "python",
   "name": "python3"
  },
  "language_info": {
   "codemirror_mode": {
    "name": "ipython",
    "version": 3
   },
   "file_extension": ".py",
   "mimetype": "text/x-python",
   "name": "python",
   "nbconvert_exporter": "python",
   "pygments_lexer": "ipython3",
   "version": "3.6.6"
  },
  "varInspector": {
   "cols": {
    "lenName": 16,
    "lenType": 16,
    "lenVar": 40
   },
   "kernels_config": {
    "python": {
     "delete_cmd_postfix": "",
     "delete_cmd_prefix": "del ",
     "library": "var_list.py",
     "varRefreshCmd": "print(var_dic_list())"
    },
    "r": {
     "delete_cmd_postfix": ") ",
     "delete_cmd_prefix": "rm(",
     "library": "var_list.r",
     "varRefreshCmd": "cat(var_dic_list()) "
    }
   },
   "oldHeight": 236,
   "position": {
    "height": "367px",
    "left": "684px",
    "right": "20px",
    "top": "211px",
    "width": "572px"
   },
   "types_to_exclude": [
    "module",
    "function",
    "builtin_function_or_method",
    "instance",
    "_Feature"
   ],
   "varInspector_section_display": "block",
   "window_display": false
  }
 },
 "nbformat": 4,
 "nbformat_minor": 2
}
