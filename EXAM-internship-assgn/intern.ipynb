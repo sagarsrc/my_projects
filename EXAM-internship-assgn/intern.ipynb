{
 "cells": [
  {
   "cell_type": "code",
   "execution_count": 1,
   "metadata": {
    "extensions": {
     "jupyter_dashboards": {
      "version": 1,
      "views": {
       "grid_default": {
        "hidden": true
       },
       "report_default": {}
      }
     }
    }
   },
   "outputs": [],
   "source": [
    "# importing libraries\n",
    "\n",
    "import pandas as pd"
   ]
  },
  {
   "cell_type": "code",
   "execution_count": 2,
   "metadata": {
    "extensions": {
     "jupyter_dashboards": {
      "version": 1,
      "views": {
       "grid_default": {
        "col": 0,
        "height": 22,
        "hidden": false,
        "row": 0,
        "width": 4
       },
       "report_default": {}
      }
     }
    }
   },
   "outputs": [
    {
     "data": {
      "text/html": [
       "<div>\n",
       "<style scoped>\n",
       "    .dataframe tbody tr th:only-of-type {\n",
       "        vertical-align: middle;\n",
       "    }\n",
       "\n",
       "    .dataframe tbody tr th {\n",
       "        vertical-align: top;\n",
       "    }\n",
       "\n",
       "    .dataframe thead th {\n",
       "        text-align: right;\n",
       "    }\n",
       "</style>\n",
       "<table border=\"1\" class=\"dataframe\">\n",
       "  <thead>\n",
       "    <tr style=\"text-align: right;\">\n",
       "      <th></th>\n",
       "      <th>Unnamed: 0</th>\n",
       "      <th>topic</th>\n",
       "      <th>subject</th>\n",
       "    </tr>\n",
       "  </thead>\n",
       "  <tbody>\n",
       "    <tr>\n",
       "      <th>0</th>\n",
       "      <td>1115</td>\n",
       "      <td>fcfs</td>\n",
       "      <td>Operating System</td>\n",
       "    </tr>\n",
       "    <tr>\n",
       "      <th>1</th>\n",
       "      <td>1923</td>\n",
       "      <td>dml</td>\n",
       "      <td>Database Management System</td>\n",
       "    </tr>\n",
       "    <tr>\n",
       "      <th>2</th>\n",
       "      <td>835</td>\n",
       "      <td>jdbc</td>\n",
       "      <td>Object_oriented_programing</td>\n",
       "    </tr>\n",
       "    <tr>\n",
       "      <th>3</th>\n",
       "      <td>1866</td>\n",
       "      <td>joints</td>\n",
       "      <td>Database Management System</td>\n",
       "    </tr>\n",
       "    <tr>\n",
       "      <th>4</th>\n",
       "      <td>1125</td>\n",
       "      <td>buffering</td>\n",
       "      <td>Operating System</td>\n",
       "    </tr>\n",
       "  </tbody>\n",
       "</table>\n",
       "</div>"
      ],
      "text/plain": [
       "   Unnamed: 0      topic                     subject\n",
       "0        1115       fcfs            Operating System\n",
       "1        1923        dml  Database Management System\n",
       "2         835       jdbc  Object_oriented_programing\n",
       "3        1866     joints  Database Management System\n",
       "4        1125  buffering            Operating System"
      ]
     },
     "execution_count": 2,
     "metadata": {},
     "output_type": "execute_result"
    }
   ],
   "source": [
    "# storing topic_dataset in df1\n",
    "\n",
    "df1 = pd.read_csv('./topic_dataset.csv')\n",
    "df1.head()"
   ]
  },
  {
   "cell_type": "code",
   "execution_count": 3,
   "metadata": {},
   "outputs": [],
   "source": [
    "# topics dictionary contains\n",
    "# topic_name as key and [score]\n",
    "# score is calculated based on the occurences \n",
    "# of keywords i.e topic name\n",
    "\n",
    "topics = {}\n",
    "for i in range(19):\n",
    "    topics[df1.topic[i]] = 0\n",
    "#topics"
   ]
  },
  {
   "cell_type": "code",
   "execution_count": 4,
   "metadata": {
    "extensions": {
     "jupyter_dashboards": {
      "version": 1,
      "views": {
       "grid_default": {
        "hidden": true
       },
       "report_default": {}
      }
     }
    }
   },
   "outputs": [],
   "source": [
    "# processing the data\n",
    "# l is temporary list\n",
    "# \n",
    "\n",
    "l = []\n",
    "que_dict = {}\n",
    "\n",
    "with open(\"500_questions.csv\", 'rb') as f:\n",
    "    for line in f.readlines():\n",
    "        l.append(line.split(b','))\n",
    "        \n",
    "    # ingesting given dataset in dictionary\n",
    "    # with id as the key and question as value\n",
    "    # filtering questions from the dataset\n",
    "    \n",
    "    tags = [b'?' , b'what' , b'where' , b'when' , b'why' , b'who' , b'which', b'how' , b'how much' , b'how many' , b'can' ]\n",
    "    for i in range(len(l)):\n",
    "        \"\"\"\n",
    "        if ( b'?' or b'where' or b'what' or b'when' or b'why' or b'who' or b'which'or b'how' or b'how much' or b'how many' or b'can' ) in l[i][1]:\n",
    "            que_dict[l[i][0]] = l[i][1]\n",
    "        else:\n",
    "            continue\n",
    "        \"\"\"   \n",
    "        if any(x in l[i][1] for x in tags):\n",
    "            que_dict[int((l[i][0]).decode('utf-8','ignore'))] = [str.lower((l[i][1]).decode('utf-8','ignore')),0]\n"
   ]
  },
  {
   "cell_type": "code",
   "execution_count": 5,
   "metadata": {},
   "outputs": [
    {
     "name": "stdout",
     "output_type": "stream",
     "text": [
      "243\n"
     ]
    },
    {
     "data": {
      "text/plain": [
       "['29. what is scheduling? what are the scheduling techniques? explain.\\r\\n', 0]"
      ]
     },
     "execution_count": 5,
     "metadata": {},
     "output_type": "execute_result"
    }
   ],
   "source": [
    "print(len(que_dict))\n",
    "que_dict[916]"
   ]
  },
  {
   "cell_type": "code",
   "execution_count": 6,
   "metadata": {},
   "outputs": [],
   "source": [
    "topics_list = topics.keys()\n",
    "# print(topics_list)\n",
    "\n",
    "for i in que_dict:\n",
    "    for j in topics_list:\n",
    "        \n",
    "        if j in que_dict[i][0]:\n",
    "            que_dict[i][1]+=1"
   ]
  },
  {
   "cell_type": "code",
   "execution_count": 7,
   "metadata": {},
   "outputs": [],
   "source": [
    "relevant_faq=[]\n",
    "count = 11\n",
    "for k in que_dict:\n",
    "    if que_dict[k][1]==1 and count>0:\n",
    "        relevant_faq.append((k,que_dict[k][0]))\n",
    "        count -= 1\n",
    "        \n",
    "    if que_dict[k][1]>1:\n",
    "        relevant_faq.append((k,que_dict[k][0]))\n",
    "    "
   ]
  },
  {
   "cell_type": "code",
   "execution_count": 8,
   "metadata": {},
   "outputs": [
    {
     "name": "stdout",
     "output_type": "stream",
     "text": [
      "1  :  (2254, '(avg. of 42 ) : what is a sql view?\\r\\n')\n",
      "2  :  (1135, \"consider the following areas for tuning. the order in which steps are listed needs to be maintained to prevent tuning side effects. for example  it is no good increasing the buffer cache if you can reduce i/o by rewriting a sql statement. database design (if it's not too late):\\r\\n\")\n",
      "3  :  (1115, '? case in which fcfs is the best algo\\r\\n')\n",
      "4  :  (928, '32) in scheduling algorithms which are logically executed but suspended\\r\\n')\n",
      "5  :  (2252, 'what is the basic form of a sql statement to read data out of a table?\\r\\n')\n",
      "6  :  (2221, 'how are modified extents tracked in sql server 2005 (which internal structures)?\\r\\n')\n",
      "7  :  (891, '79. when head is moving back and forth  the disk scheduling algorithm is _____\\r\\n')\n",
      "8  :  (2137, 'the sql variant type can store all datatypes except varchar(max)  varbinary(max)  xml  text  ntext  rowversion/timestamp (thought the data of a rowversion can be stored in a binary(8)  which can be stored in a sql_variant) and sql_variant (it may seem strange that you can?t store a variant in a variant  but all this is saying is that the sql_variant data type doesn?t actually exist as such?sql server chooses the best type of storage to store the value you give to it).\\r\\n')\n",
      "9  :  (2220, 'when you install sql server 2005 and create a new database  is a database master key created?\\r\\n')\n",
      "10  :  (2369, 'what is the significance of the & and && operators in pl sql ?\\r\\n')\n",
      "11  :  (2173, 'how is thesaurus data configured in sql server 2005 full-text search?\\r\\n')\n",
      "12  :  (1323, 'q- what is deadlock and blocking with respect to the transaction?\\r\\n')\n",
      "13  :  (2156, 'you can use tracer tokens in sql server 2005 replication to measure latencies. these are small amounts of data written into your transaction logs.\\r\\n')\n",
      "14  :  (1917, 'q) tell the commands of ddl dml dcl &tcl command?s.\\r\\n')\n",
      "15  :  (1797, 'recovery is the process of applying redo logs to the database to roll it forward. one can roll-forward until a specific point-in-time (before the disaster occurred)  or roll-forward until the last transaction recorded in the log files. sql> connect sys as sysdba\\r\\n')\n",
      "16  :  (2367, 'can one use dynamic sql within pl/sql? or can you use a ddl in a procedure ? how ?\\r\\n')\n",
      "17  :  (2024, 'if you have good domain knowledge and concepts like java oops  dbms and sql queries  data structures  you can easily crack this interview. never forget to prepare your final year project. prepare dbms specially(join  normalization  transaction  acid properties).\\r\\n')\n",
      "18  :  (640, 'interviewer: what is encapsulation and polymorphism?\\r\\n')\n",
      "19  :  (1253, '\"users normally use the \"\"connect\"\" statement to connect from one database user to another. however  dbas can switch from one user to another without a password. of course it is not advisable to bridge oracle\\'s security  but look at this example: sql> select password from dba_users where username=\\'scott\\';\"\\r\\n')\n",
      "20  :  (1915, 'can one use dynamic sql within pl/sql? or can you use a ddl in a procedure ? how ?\\r\\n')\n",
      "21  :  (2003, 'on 21st i was called for interview  i just had 2 days 2 prepare for the interview  n in aricent they can ask each n every thing that you must have studied.. i toiled v hard day n night revised almost everything data structures  os  dcn  c  c++  s/w engineering  sdlc  normalization  keys  sql  unix etc.\\r\\n')\n",
      "22  :  (1900, 'the answer is create a ddl trigger on create_procedure database event you can find the answer on page 448 of beginning sql server 2005 for developers: from novice to professional\\r\\n')\n",
      "23  :  (2287, 'function key triggers are associated with individual sql*forms function keys you can attach key function triggers to 10 keys or key sequences that normally do not perform any sql * forms operations. these keys referred as key f0 through key f9.\\r\\n')\n",
      "24  :  (2333, 'for long transactions that contain many sql statements  intermediate markers or savepoints can be declared which can be used to divide a transaction into smaller parts. this allows the option of later rolling back all work performed from the current point in the transaction to a declared savepoint within the transaction.\\r\\n')\n",
      "25  :  (2214, 'can a particular event in sql server 2005  such as the create user command  have more than one ddl trigger assigned to it?\\r\\n')\n"
     ]
    }
   ],
   "source": [
    "# question_id, question\n",
    "\n",
    "c = 1\n",
    "for i in relevant_faq:\n",
    "    print(c,\" : \",i)\n",
    "    c += 1"
   ]
  }
 ],
 "metadata": {
  "extensions": {
   "jupyter_dashboards": {
    "activeView": "grid_default",
    "version": 1,
    "views": {
     "grid_default": {
      "cellMargin": 10,
      "defaultCellHeight": 20,
      "maxColumns": 12,
      "name": "grid",
      "type": "grid"
     },
     "report_default": {
      "name": "report",
      "type": "report"
     }
    }
   }
  },
  "kernelspec": {
   "display_name": "Python 3",
   "language": "python",
   "name": "python3"
  },
  "language_info": {
   "codemirror_mode": {
    "name": "ipython",
    "version": 3
   },
   "file_extension": ".py",
   "mimetype": "text/x-python",
   "name": "python",
   "nbconvert_exporter": "python",
   "pygments_lexer": "ipython3",
   "version": "3.6.6"
  },
  "varInspector": {
   "cols": {
    "lenName": 16,
    "lenType": 16,
    "lenVar": 40
   },
   "kernels_config": {
    "python": {
     "delete_cmd_postfix": "",
     "delete_cmd_prefix": "del ",
     "library": "var_list.py",
     "varRefreshCmd": "print(var_dic_list())"
    },
    "r": {
     "delete_cmd_postfix": ") ",
     "delete_cmd_prefix": "rm(",
     "library": "var_list.r",
     "varRefreshCmd": "cat(var_dic_list()) "
    }
   },
   "types_to_exclude": [
    "module",
    "function",
    "builtin_function_or_method",
    "instance",
    "_Feature"
   ],
   "window_display": false
  }
 },
 "nbformat": 4,
 "nbformat_minor": 2
}
